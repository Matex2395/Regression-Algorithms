{
 "cells": [
  {
   "cell_type": "markdown",
   "id": "86b202a0-cb80-4eb1-8b53-4fca7b76dc30",
   "metadata": {},
   "source": [
    "# Regresión Logística"
   ]
  },
  {
   "cell_type": "markdown",
   "id": "90c926a8-fef0-441f-9c29-5e7f1f0c7c48",
   "metadata": {},
   "source": [
    "Mateo Rosero"
   ]
  },
  {
   "cell_type": "markdown",
   "id": "eb439b43-cf03-480f-ae51-f682c4fa9a76",
   "metadata": {},
   "source": [
    "## Explicaciones Clave\n",
    "**Sobre el dataset:** ``loan_data.csv`` contiene datos para determinar si un préstamo será aprobado o no (loan_status) según ciertas variables independientes:\n",
    "- person_age --> Edad de la persona\n",
    "- person_income --> Ingreso anual de la persona\n",
    "- person_emp_exp --> Años de experiencia laboral\n",
    "- loan_amnt --> Cantidad de dinero solicitado para el préstamo\n",
    "- loan_int_rate --> Tasa de Interés del préstamo\n",
    "- loan_percent_income --> Porcentaje de la cantidad de dinero solicitado en el préstamo en relación al Ingreso anual de la persona.\n",
    "- cb_person_cred_hist_length --> Longitud del historial crediticio en años.\n",
    "- credit_score --> Score crediticio de la persona\n",
    "\n",
    "**Entrenamiento del modelo:** Se utilizará la librería de ``skearn`` para poder implementar algoritmos de Regresión Logística.<br>"
   ]
  },
  {
   "cell_type": "markdown",
   "id": "07d03c78-d6b4-4714-aadd-6ce563d99736",
   "metadata": {},
   "source": [
    "# Importar Librerías Necesarias"
   ]
  },
  {
   "cell_type": "code",
   "execution_count": 173,
   "id": "dfe3c795-55d9-45ca-b6b0-d197a25b5e49",
   "metadata": {},
   "outputs": [],
   "source": [
    "import numpy as np\n",
    "import matplotlib.pyplot as plt\n",
    "import pandas as pd\n",
    "from sklearn.model_selection import train_test_split\n",
    "from sklearn.preprocessing import StandardScaler\n",
    "from sklearn.linear_model import LogisticRegression\n",
    "from sklearn.metrics import confusion_matrix, accuracy_score, precision_score, recall_score, f1_score, roc_curve, roc_auc_score, log_loss\n",
    "import seaborn as sns\n",
    "import statsmodels.api as sm"
   ]
  },
  {
   "cell_type": "markdown",
   "id": "14e797e3-03f8-4e8b-b694-9f82a261b22f",
   "metadata": {},
   "source": [
    "# Importar el Dataset"
   ]
  },
  {
   "cell_type": "code",
   "execution_count": 174,
   "id": "06b8f813-c80c-4466-9147-d97b12128f51",
   "metadata": {},
   "outputs": [],
   "source": [
    "dataset = pd.read_csv('loan_data.csv')"
   ]
  },
  {
   "cell_type": "markdown",
   "id": "97091dc4-c18f-4a04-a605-eeb1942cb3a4",
   "metadata": {},
   "source": [
    "# Definición de Variable Independiente y Dependiente"
   ]
  },
  {
   "cell_type": "code",
   "execution_count": 175,
   "id": "e8638d2d-b397-44f3-a025-2255aa1a9931",
   "metadata": {},
   "outputs": [],
   "source": [
    "X = dataset[['person_age', 'person_income', 'person_emp_exp', 'loan_amnt', 'loan_int_rate', \n",
    "             'loan_percent_income', 'cb_person_cred_hist_length', 'credit_score']].values\n",
    "y = dataset['loan_status'].values"
   ]
  },
  {
   "cell_type": "markdown",
   "id": "edc91596-b3ea-4613-84fc-1f3e1f806bea",
   "metadata": {},
   "source": [
    "En este dataset, la aprobación del préstamo está dada por algunas variables como la edad de la persona, su ingreso, su experiencia labora, score crediticio, entre otras. Por esta razón, esta variable cualitativa dicotómica es la variable dependiente y las demás variables numéricas son variables independientes."
   ]
  },
  {
   "cell_type": "markdown",
   "id": "a96017fa-73ba-4d5b-a973-bf7a21c51f2c",
   "metadata": {},
   "source": [
    "# División entre Conjunto de Entrenamiento y Conjunto de Prueba"
   ]
  },
  {
   "cell_type": "code",
   "execution_count": 176,
   "id": "24a8a65f-be5f-4641-af61-99927f5b8082",
   "metadata": {},
   "outputs": [],
   "source": [
    "X_train, X_test, y_train, y_test = train_test_split(X, y, test_size = 0.25, random_state = 0)"
   ]
  },
  {
   "cell_type": "markdown",
   "id": "9912d300-b19b-4abf-82a6-aa485e60d4f7",
   "metadata": {},
   "source": [
    "# Escalado de Características (Feature Scaling)"
   ]
  },
  {
   "cell_type": "code",
   "execution_count": 177,
   "id": "38dc249d-f035-40b1-ae82-452cc7423d56",
   "metadata": {},
   "outputs": [],
   "source": [
    "sc = StandardScaler()\n",
    "X_train = sc.fit_transform(X_train)\n",
    "X_test = sc.transform(X_test)"
   ]
  },
  {
   "cell_type": "markdown",
   "id": "c019c024-0b15-4599-9aa2-07290b5c8b1d",
   "metadata": {},
   "source": [
    "# Entrenando el Modelo de Regresión Logística sobre el Conjunto de Entrenamiento"
   ]
  },
  {
   "cell_type": "code",
   "execution_count": 178,
   "id": "945f5cdd-7c83-4900-b431-585cbeb4827a",
   "metadata": {},
   "outputs": [
    {
     "data": {
      "text/html": [
       "<style>#sk-container-id-11 {color: black;background-color: white;}#sk-container-id-11 pre{padding: 0;}#sk-container-id-11 div.sk-toggleable {background-color: white;}#sk-container-id-11 label.sk-toggleable__label {cursor: pointer;display: block;width: 100%;margin-bottom: 0;padding: 0.3em;box-sizing: border-box;text-align: center;}#sk-container-id-11 label.sk-toggleable__label-arrow:before {content: \"▸\";float: left;margin-right: 0.25em;color: #696969;}#sk-container-id-11 label.sk-toggleable__label-arrow:hover:before {color: black;}#sk-container-id-11 div.sk-estimator:hover label.sk-toggleable__label-arrow:before {color: black;}#sk-container-id-11 div.sk-toggleable__content {max-height: 0;max-width: 0;overflow: hidden;text-align: left;background-color: #f0f8ff;}#sk-container-id-11 div.sk-toggleable__content pre {margin: 0.2em;color: black;border-radius: 0.25em;background-color: #f0f8ff;}#sk-container-id-11 input.sk-toggleable__control:checked~div.sk-toggleable__content {max-height: 200px;max-width: 100%;overflow: auto;}#sk-container-id-11 input.sk-toggleable__control:checked~label.sk-toggleable__label-arrow:before {content: \"▾\";}#sk-container-id-11 div.sk-estimator input.sk-toggleable__control:checked~label.sk-toggleable__label {background-color: #d4ebff;}#sk-container-id-11 div.sk-label input.sk-toggleable__control:checked~label.sk-toggleable__label {background-color: #d4ebff;}#sk-container-id-11 input.sk-hidden--visually {border: 0;clip: rect(1px 1px 1px 1px);clip: rect(1px, 1px, 1px, 1px);height: 1px;margin: -1px;overflow: hidden;padding: 0;position: absolute;width: 1px;}#sk-container-id-11 div.sk-estimator {font-family: monospace;background-color: #f0f8ff;border: 1px dotted black;border-radius: 0.25em;box-sizing: border-box;margin-bottom: 0.5em;}#sk-container-id-11 div.sk-estimator:hover {background-color: #d4ebff;}#sk-container-id-11 div.sk-parallel-item::after {content: \"\";width: 100%;border-bottom: 1px solid gray;flex-grow: 1;}#sk-container-id-11 div.sk-label:hover label.sk-toggleable__label {background-color: #d4ebff;}#sk-container-id-11 div.sk-serial::before {content: \"\";position: absolute;border-left: 1px solid gray;box-sizing: border-box;top: 0;bottom: 0;left: 50%;z-index: 0;}#sk-container-id-11 div.sk-serial {display: flex;flex-direction: column;align-items: center;background-color: white;padding-right: 0.2em;padding-left: 0.2em;position: relative;}#sk-container-id-11 div.sk-item {position: relative;z-index: 1;}#sk-container-id-11 div.sk-parallel {display: flex;align-items: stretch;justify-content: center;background-color: white;position: relative;}#sk-container-id-11 div.sk-item::before, #sk-container-id-11 div.sk-parallel-item::before {content: \"\";position: absolute;border-left: 1px solid gray;box-sizing: border-box;top: 0;bottom: 0;left: 50%;z-index: -1;}#sk-container-id-11 div.sk-parallel-item {display: flex;flex-direction: column;z-index: 1;position: relative;background-color: white;}#sk-container-id-11 div.sk-parallel-item:first-child::after {align-self: flex-end;width: 50%;}#sk-container-id-11 div.sk-parallel-item:last-child::after {align-self: flex-start;width: 50%;}#sk-container-id-11 div.sk-parallel-item:only-child::after {width: 0;}#sk-container-id-11 div.sk-dashed-wrapped {border: 1px dashed gray;margin: 0 0.4em 0.5em 0.4em;box-sizing: border-box;padding-bottom: 0.4em;background-color: white;}#sk-container-id-11 div.sk-label label {font-family: monospace;font-weight: bold;display: inline-block;line-height: 1.2em;}#sk-container-id-11 div.sk-label-container {text-align: center;}#sk-container-id-11 div.sk-container {/* jupyter's `normalize.less` sets `[hidden] { display: none; }` but bootstrap.min.css set `[hidden] { display: none !important; }` so we also need the `!important` here to be able to override the default hidden behavior on the sphinx rendered scikit-learn.org. See: https://github.com/scikit-learn/scikit-learn/issues/21755 */display: inline-block !important;position: relative;}#sk-container-id-11 div.sk-text-repr-fallback {display: none;}</style><div id=\"sk-container-id-11\" class=\"sk-top-container\"><div class=\"sk-text-repr-fallback\"><pre>LogisticRegression(random_state=0)</pre><b>In a Jupyter environment, please rerun this cell to show the HTML representation or trust the notebook. <br />On GitHub, the HTML representation is unable to render, please try loading this page with nbviewer.org.</b></div><div class=\"sk-container\" hidden><div class=\"sk-item\"><div class=\"sk-estimator sk-toggleable\"><input class=\"sk-toggleable__control sk-hidden--visually\" id=\"sk-estimator-id-11\" type=\"checkbox\" checked><label for=\"sk-estimator-id-11\" class=\"sk-toggleable__label sk-toggleable__label-arrow\">LogisticRegression</label><div class=\"sk-toggleable__content\"><pre>LogisticRegression(random_state=0)</pre></div></div></div></div></div>"
      ],
      "text/plain": [
       "LogisticRegression(random_state=0)"
      ]
     },
     "execution_count": 178,
     "metadata": {},
     "output_type": "execute_result"
    }
   ],
   "source": [
    "classifier = LogisticRegression(random_state = 0)\n",
    "classifier.fit(X_train, y_train)"
   ]
  },
  {
   "cell_type": "markdown",
   "id": "b4faf36c-992c-4384-abb2-a345fc03e7e2",
   "metadata": {},
   "source": [
    "# Predicciones"
   ]
  },
  {
   "cell_type": "markdown",
   "id": "1c26afdb-c83c-4fad-bf22-9e6cde71fa8f",
   "metadata": {},
   "source": [
    "## Sobre un nuevo resultado"
   ]
  },
  {
   "cell_type": "markdown",
   "id": "be90b976-9b15-4bea-8085-c72065e1686b",
   "metadata": {},
   "source": [
    "**Ejemplo:** Persona de 35 años, ingreso 50000, 5 años de experiencia, solicita un préstamo con tasa de interés del 12%, el préstamo representa 20% del ingreso, tiene un score crediticio de 650."
   ]
  },
  {
   "cell_type": "code",
   "execution_count": 179,
   "id": "44ef0b6b-5846-4cd1-9079-d68392ea5919",
   "metadata": {},
   "outputs": [
    {
     "name": "stdout",
     "output_type": "stream",
     "text": [
      "Predicción del préstamo: Rechazado\n",
      "Probabilidad de rechazo: 0.59\n",
      "Probabilidad de aprobación: 0.41\n"
     ]
    }
   ],
   "source": [
    "nueva_muestra = [[35, 50000, 5, 10000, 12.0, 0.20, 4, 650]]\n",
    "nueva_muestra_escalada = sc.transform(nueva_muestra)\n",
    "\n",
    "prediccion = classifier.predict(nueva_muestra_escalada)\n",
    "probabilidades = classifier.predict_proba(nueva_muestra_escalada)\n",
    "\n",
    "print(f\"Predicción del préstamo: {'Aprobado' if prediccion[0] == 1 else 'Rechazado'}\")\n",
    "print(f\"Probabilidad de rechazo: {probabilidades[0][0]:.2f}\")\n",
    "print(f\"Probabilidad de aprobación: {probabilidades[0][1]:.2f}\")"
   ]
  },
  {
   "cell_type": "markdown",
   "id": "cad7a122-b97c-4067-be05-b68ccb0406fe",
   "metadata": {},
   "source": [
    "## Sobre el Conjunto de Prueba"
   ]
  },
  {
   "cell_type": "code",
   "execution_count": 180,
   "id": "6347e104-39b9-4d61-9ab4-a32fa6234113",
   "metadata": {},
   "outputs": [
    {
     "name": "stdout",
     "output_type": "stream",
     "text": [
      "Predicciones sobre el conjunto de prueba:\n",
      "[[0 1]\n",
      " [0 0]\n",
      " [0 0]\n",
      " ...\n",
      " [0 0]\n",
      " [0 1]\n",
      " [0 0]]\n"
     ]
    }
   ],
   "source": [
    "y_pred = classifier.predict(X_test)\n",
    "y_prob = classifier.predict_proba(X_test)[:, 1]\n",
    "print(\"Predicciones sobre el conjunto de prueba:\")\n",
    "print(np.concatenate((y_pred.reshape(len(y_pred), 1), y_test.reshape(len(y_test), 1)), 1)) "
   ]
  },
  {
   "cell_type": "markdown",
   "id": "7fbb7136-92b3-4c90-ae01-b6819aa3466e",
   "metadata": {},
   "source": [
    "# ANÁLISIS"
   ]
  },
  {
   "cell_type": "markdown",
   "id": "cb307227-8f09-4849-aa98-e4243a7f6d70",
   "metadata": {},
   "source": [
    "# Matriz de Confusión"
   ]
  },
  {
   "cell_type": "markdown",
   "id": "f10f7d79-588f-4bc6-8571-2076c2baf508",
   "metadata": {},
   "source": [
    "La matriz de confusión nos permite visualizar los verdaderos positivos, falsos positivos, verdaderos negativos y falsos negativos. Se evalúa comparando las predicciones con los valores reales.\n",
    "- Un buen modelo tendrá valores altos en la diagonal principal."
   ]
  },
  {
   "cell_type": "code",
   "execution_count": 159,
   "id": "11ab08bb-2b91-473a-b1db-c510fb06f354",
   "metadata": {},
   "outputs": [
    {
     "name": "stdout",
     "output_type": "stream",
     "text": [
      "Matriz de Confusión:\n",
      "[[8268  495]\n",
      " [1473 1014]]\n"
     ]
    }
   ],
   "source": [
    "print(\"Matriz de Confusión:\")\n",
    "cm = confusion_matrix(y_test, y_pred)\n",
    "print(cm)"
   ]
  },
  {
   "cell_type": "markdown",
   "id": "cfe58bb3-02bb-4553-8dfc-e25f5e7b130c",
   "metadata": {},
   "source": [
    "La matriz de confusión dio los siguientes resultados:\n",
    "- 8268 verdaderos negativos (préstamos correctamente predichos como rechazados).\n",
    "- 1014 verdaderos positivos (préstamos correctamente predichos como aprobados).\n",
    "- 495 falsos positivos (préstamos que fueron aprobados incorrectamente cuando deberían haber sido rechazados).\n",
    "- 1473 falsos negativos (préstamos rechazados incorrectamente cuando deberían haber sido aprobados).<br>\n",
    "Esto nos indica que, a pesar de haber una gran cantidad de predicciones correctas, _**el modelo comete muchos falsos negativos**_, lo cual puede ser un problema en un escenario de la vida real cuando no se quiera rechazar a buenos solicitantes."
   ]
  },
  {
   "cell_type": "markdown",
   "id": "b9cbee9f-4071-45e3-8792-e7a54aa5ae96",
   "metadata": {},
   "source": [
    "# Accuracy"
   ]
  },
  {
   "cell_type": "markdown",
   "id": "337856a0-7b19-4ee3-af2d-630e095c33df",
   "metadata": {},
   "source": [
    "Mide el porcentaje de predicciones correctas del modelo sobre el total de los casos."
   ]
  },
  {
   "cell_type": "code",
   "execution_count": 160,
   "id": "6e49fa64-4086-4627-9973-1ac49bc85190",
   "metadata": {},
   "outputs": [
    {
     "name": "stdout",
     "output_type": "stream",
     "text": [
      "Precisión global (Accuracy):\n",
      "0.8250666666666666\n"
     ]
    }
   ],
   "source": [
    "print(\"Precisión global (Accuracy):\")\n",
    "print(accuracy_score(y_test, y_pred))"
   ]
  },
  {
   "cell_type": "markdown",
   "id": "42746ff9-33f2-4c81-bc66-7781772b65da",
   "metadata": {},
   "source": [
    "El modelo _**acierta en un 82.5% de los casos**_, lo cual _**está bien a nivel general**_."
   ]
  },
  {
   "cell_type": "markdown",
   "id": "67df9392-a1f3-42a9-99af-a43d0fb39afd",
   "metadata": {},
   "source": [
    "# Precision"
   ]
  },
  {
   "cell_type": "markdown",
   "id": "f52ba6ba-d685-4f66-b64d-0610f7aa878e",
   "metadata": {},
   "source": [
    "Otorga un resultado en el que indica, de todas las veces que el modelo dio un resultado positivo, ¿Cuántas veces acertó?<br>\n",
    "Su interpretación se realiza de la siguiente manera:\n",
    "- **Precision alta (> 0.7):** El modelo tiene un _**bajo número de falsos positivos**_. Es decir, cuando predice que algo es positivo, generalmente tiene razón.\n",
    "- **Precision baja (< 0.5):** El modelo está haciendo _**muchos falsos positivos**_. En estos casos, el modelo tiende a etiquetar incorrectamente como positivos muchos ejemplos negativos, lo que puede ser un problema si la consecuencia de un falso positivo es costosa, como los casos de arrestar a una persona inocente o diagnosticar erróneamente una enfermedad."
   ]
  },
  {
   "cell_type": "code",
   "execution_count": 161,
   "id": "1697519f-cdb0-4d8c-ae53-811f2956017a",
   "metadata": {},
   "outputs": [
    {
     "name": "stdout",
     "output_type": "stream",
     "text": [
      "Precisión (Precision):\n",
      "0.6719681908548708\n"
     ]
    }
   ],
   "source": [
    "print(\"Precisión (Precision):\")\n",
    "print(precision_score(y_test, y_pred))"
   ]
  },
  {
   "cell_type": "markdown",
   "id": "8e235ce3-b4b2-4646-9185-de5e9d24c4b8",
   "metadata": {},
   "source": [
    "En esta métrica, el valor obtenido nos indica que, de todos los préstamos que el modelo dijo que serían aprobados, _**el 67% en verdad lo fueron**_. Esto indica que _**el modelo es relativamente confiable cuando aprueba los préstamos, aunque no es perfecto**_."
   ]
  },
  {
   "cell_type": "markdown",
   "id": "a9da944c-2ae0-4216-b3a4-8b9fd1083445",
   "metadata": {},
   "source": [
    "# Curva ROC y Área bajo la Curva ROC (AUC)"
   ]
  },
  {
   "cell_type": "markdown",
   "id": "75aa7597-d87c-4cb2-a011-17a20e2d60ab",
   "metadata": {},
   "source": [
    "Por un lado, la Curva ROC (_Receiver Operating Characteristic_), es una gráfica que muestra cómo cambia el modelo si se ajusta el umbral de clasificación, teniendo al eje X como la Tasa de Falsos Positivos (FPR) y al eje Y como la Tasa de Verdaderos Positivos (TPR). Una curva más cerca de la esquina superior izquierda indica que es un mejor modelo.<br>\n",
    "Generalmente, si hay una _**curva cerca de la esquina superior izquierda**_, el modelo tiene una alta capacidad de discriminación, lo que significa que es muy bueno para separar las clases (Cuanto más hacia la esquina superior izquierda, mejor), y cuando hay una **_curva cerca de la diagonal (línea punteada)_**, esto indica un modelo que tiene un rendimiento similar al azar (AUC cercano a 0.5), por lo que no está discriminando bien las clases."
   ]
  },
  {
   "cell_type": "markdown",
   "id": "4ab8e1c3-6f64-4faf-ae55-37ec16743f83",
   "metadata": {},
   "source": [
    "Por otro lado, la Área bajo la curva ROC (_AUC_) resume la ROC con un número entre 0 y 1. Mientras más cercano a 1, mejor el modelo distingue entre las clases. <br>\n",
    "Se interpreta de la siguiente forma:\n",
    "- **AUC alto (> 0.8):** El modelo tiene una excelente capacidad para separar las clases. Cuanto más cerca de 1, mejor.\n",
    "- **AUC cercano a 0.5:** El modelo es prácticamente aleatorio y no tiene capacidad de discriminación.\n",
    "- **AUC bajo (< 0.6):** El modelo tiene una muy baja capacidad de discriminación y probablemente no sea útil."
   ]
  },
  {
   "cell_type": "code",
   "execution_count": 162,
   "id": "46d975ee-b617-4533-85d7-c39867085410",
   "metadata": {},
   "outputs": [
    {
     "data": {
      "image/png": "[encoded data removed]",
      "text/plain": [
       "<Figure size 640x480 with 1 Axes>"
      ]
     },
     "metadata": {},
     "output_type": "display_data"
    },
    {
     "name": "stdout",
     "output_type": "stream",
     "text": [
      "Área bajo la curva (AUC):\n",
      "0.8283709776745731\n"
     ]
    }
   ],
   "source": [
    "fpr, tpr, thresholds = roc_curve(y_test, y_prob)\n",
    "auc_score = roc_auc_score(y_test, y_prob)\n",
    "plt.figure()\n",
    "plt.plot(fpr, tpr, color='blue', label='Curva ROC (AUC = %0.2f)' % auc_score)\n",
    "plt.plot([0, 1], [0, 1], color='gray', linestyle='--')\n",
    "plt.xlabel('Tasa de Falsos Positivos')\n",
    "plt.ylabel('Tasa de Verdaderos Positivos')\n",
    "plt.title('Curva ROC')\n",
    "plt.legend()\n",
    "plt.show()\n",
    "\n",
    "print(\"Área bajo la curva (AUC):\")\n",
    "print(auc_score)"
   ]
  },
  {
   "cell_type": "markdown",
   "id": "1658b0bb-29fb-49a3-a47f-8b55adbea7b2",
   "metadata": {},
   "source": [
    "A nivel gráfico, _**la curva sí se acerca a la esquina superior izquierda**_ y, combinando el hecho de que su AUC tiene un valor de **0.83**, se puede decir que _**el modelo tiene buena capacidad de clasificación entre los préstamos aprobados y rechazados**_."
   ]
  },
  {
   "cell_type": "markdown",
   "id": "a1c6a487-bfe3-4703-8a83-5a29a06c1a3e",
   "metadata": {},
   "source": [
    "# Coeficientes del Modelo (Odds Ratio)"
   ]
  },
  {
   "cell_type": "markdown",
   "id": "14380510-3c59-4732-8dea-98d235324962",
   "metadata": {},
   "source": [
    "En regresión logística, cada variable tiene un coeficiente que representa su efecto sobre la probabilidad logarítmica de que ocurra el evento. Estos coeficientes son los Odds Ratio (OR). <br>\n",
    "Su evaluación se interpreta así:\n",
    "- **OR > 1:** La variable aumenta la probabilidad del evento positivo.\n",
    "- **OR < 1:** La variable disminuye la probabilidad del evento positivo.\n",
    "- **OR alrededor de 1:** No tiene un gran impacto en las probabilidades de que ocurra el evento."
   ]
  },
  {
   "cell_type": "code",
   "execution_count": 163,
   "id": "d049731c-b7fc-4d3b-b5c1-a7a6d45299e5",
   "metadata": {},
   "outputs": [
    {
     "name": "stdout",
     "output_type": "stream",
     "text": [
      "Coeficientes del modelo:\n",
      "person_age: 0.1088855236486517\n",
      "person_gender: 0.021773424416748965\n",
      "person_education: -0.08032403667547776\n",
      "person_income: -0.7013866883152998\n",
      "person_emp_exp: 1.001027550769092\n",
      "person_home_ownership: 1.3656133478549577\n",
      "loan_amnt: -0.017462144412300512\n",
      "loan_intent: -0.014425441329139945\n"
     ]
    }
   ],
   "source": [
    "print(\"Coeficientes del modelo:\")\n",
    "for feature, coef in zip(dataset.columns[0:-1], classifier.coef_[0]):\n",
    "    print(f\"{feature}: {coef}\")"
   ]
  },
  {
   "cell_type": "markdown",
   "id": "63fafc1a-f883-4527-bfcc-a4d4adb05e88",
   "metadata": {},
   "source": [
    "Dados los coeficientes calculados, se puede concluir con lo siguiente: \n",
    "- A mayor edad, aumenta ligeramente la probabilidad de que se apruebe el préstamo.\n",
    "- El género de la persona tiene un impacto muy bajo en la predicción.\n",
    "- A mayor nivel educativo, existe una muy ligeramente menor probabilidad de aprobación de un préstamo.\n",
    "- A mayor ingreso, menor probabilidad de que se rechace el préstamo, lo que puede indicar que el modelo considera que personas con mayores ingresos son más confiables.\n",
    "- Más experiencia laboral incrementa significativamente la probabilidad de aprobación.\n",
    "- Tener vivienda propia aumenta significativamente la probabilidad de aprobación.\n",
    "- Préstamos más grandes se asocian con menor probabilidad de aprobación."
   ]
  }
 ],
 "metadata": {
  "kernelspec": {
   "display_name": "Python 3 (ipykernel)",
   "language": "python",
   "name": "python3"
  },
  "language_info": {
   "codemirror_mode": {
    "name": "ipython",
    "version": 3
   },
   "file_extension": ".py",
   "mimetype": "text/x-python",
   "name": "python",
   "nbconvert_exporter": "python",
   "pygments_lexer": "ipython3",
   "version": "3.11.7"
  }
 },
 "nbformat": 4,
 "nbformat_minor": 5
}
