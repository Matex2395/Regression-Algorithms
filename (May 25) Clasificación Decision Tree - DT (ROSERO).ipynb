{
 "cells": [
  {
   "cell_type": "markdown",
   "id": "86b202a0-cb80-4eb1-8b53-4fca7b76dc30",
   "metadata": {},
   "source": [
    "# Clasificación Decision Tree (DT)"
   ]
  },
  {
   "cell_type": "markdown",
   "id": "90c926a8-fef0-441f-9c29-5e7f1f0c7c48",
   "metadata": {},
   "source": [
    "Mateo Rosero"
   ]
  },
  {
   "cell_type": "markdown",
   "id": "43d7aa95-2198-461f-9140-0be593279fa0",
   "metadata": {},
   "source": [
    "## Explicaciones Clave\n",
    "**Sobre el dataset:** ``car_data.csv`` contiene datos para determinar si un cliente comprará un automóvil (1) o no (0) en base a dos variables independientes:\n",
    "- _Age_ --> Edad del cliente en años.\n",
    "- _AnnualSalary_ --> Salario anual del cliente. <br>\n",
    "\n",
    "**Entrenamiento del modelo:** Se utilizará la librería de ``skearn`` para poder implementar el algoritmo de Clasificación por Árboles de Decisión (DT)."
   ]
  },
  {
   "cell_type": "markdown",
   "id": "07d03c78-d6b4-4714-aadd-6ce563d99736",
   "metadata": {},
   "source": [
    "# Importar Librerías Necesarias"
   ]
  },
  {
   "cell_type": "code",
   "execution_count": 1,
   "id": "dfe3c795-55d9-45ca-b6b0-d197a25b5e49",
   "metadata": {},
   "outputs": [],
   "source": [
    "import numpy as np\n",
    "import matplotlib.pyplot as plt\n",
    "import pandas as pd\n",
    "from sklearn.model_selection import train_test_split\n",
    "from sklearn.preprocessing import StandardScaler\n",
    "from sklearn.tree import DecisionTreeClassifier\n",
    "from sklearn.model_selection import GridSearchCV\n",
    "from sklearn.metrics import confusion_matrix, accuracy_score, precision_score, recall_score, f1_score, roc_curve, roc_auc_score\n",
    "from matplotlib.colors import ListedColormap"
   ]
  },
  {
   "cell_type": "markdown",
   "id": "14e797e3-03f8-4e8b-b694-9f82a261b22f",
   "metadata": {},
   "source": [
    "# Importar el Dataset"
   ]
  },
  {
   "cell_type": "code",
   "execution_count": 2,
   "id": "06b8f813-c80c-4466-9147-d97b12128f51",
   "metadata": {},
   "outputs": [],
   "source": [
    "dataset = pd.read_csv('car_data.csv')"
   ]
  },
  {
   "cell_type": "markdown",
   "id": "97091dc4-c18f-4a04-a605-eeb1942cb3a4",
   "metadata": {},
   "source": [
    "# Definición de Variable Independiente y Dependiente"
   ]
  },
  {
   "cell_type": "code",
   "execution_count": 3,
   "id": "e8638d2d-b397-44f3-a025-2255aa1a9931",
   "metadata": {},
   "outputs": [],
   "source": [
    "X = dataset[['Age', 'AnnualSalary']].values  # Extrae las variables independientes\n",
    "y = dataset['Purchased'].values  # Extrae la variable dependiente"
   ]
  },
  {
   "cell_type": "markdown",
   "id": "edc91596-b3ea-4613-84fc-1f3e1f806bea",
   "metadata": {},
   "source": [
    "En este dataset, la decisión de un cliente de comprar o no un coche está dada según su edad y salario anual. Por esta razón, esta variable cualitativa dicotómica es la variable dependiente y las variables numéricas son variables independientes."
   ]
  },
  {
   "cell_type": "markdown",
   "id": "a96017fa-73ba-4d5b-a973-bf7a21c51f2c",
   "metadata": {},
   "source": [
    "# División entre Conjunto de Entrenamiento y Conjunto de Prueba"
   ]
  },
  {
   "cell_type": "code",
   "execution_count": 4,
   "id": "24a8a65f-be5f-4641-af61-99927f5b8082",
   "metadata": {},
   "outputs": [],
   "source": [
    "X_train, X_test, y_train, y_test = train_test_split(X, y, test_size = 0.25, random_state = 0)"
   ]
  },
  {
   "cell_type": "markdown",
   "id": "9912d300-b19b-4abf-82a6-aa485e60d4f7",
   "metadata": {},
   "source": [
    "# Escalado de Características (Feature Scaling)"
   ]
  },
  {
   "cell_type": "code",
   "execution_count": 5,
   "id": "38dc249d-f035-40b1-ae82-452cc7423d56",
   "metadata": {},
   "outputs": [],
   "source": [
    "sc = StandardScaler()\n",
    "X_train = sc.fit_transform(X_train)\n",
    "X_test = sc.transform(X_test)"
   ]
  },
  {
   "cell_type": "markdown",
   "id": "c019c024-0b15-4599-9aa2-07290b5c8b1d",
   "metadata": {},
   "source": [
    "# Entrenando el Modelo Decision Tree sobre el Conjunto de Entrenamiento usando GridSearchCV"
   ]
  },
  {
   "cell_type": "code",
   "execution_count": 6,
   "id": "945f5cdd-7c83-4900-b431-585cbeb4827a",
   "metadata": {},
   "outputs": [
    {
     "name": "stdout",
     "output_type": "stream",
     "text": [
      "Mejor profundidad encontrada: 5\n"
     ]
    }
   ],
   "source": [
    "# Código Original de Entrenamiento\n",
    "# classifier = DecisionTreeClassifier(criterion = 'entropy', random_state = 0)\n",
    "# classifier.fit(X_train, y_train)\n",
    "\n",
    "# Paso 1: Definir los parámetros a probar\n",
    "param_grid = {'max_depth': range(1, 20)}\n",
    "# Paso 2: Usar GridSearchCV con criterio 'entropy'\n",
    "grid = GridSearchCV(\n",
    "    estimator=DecisionTreeClassifier(criterion='entropy', random_state=0),\n",
    "    param_grid=param_grid,\n",
    "    cv=5\n",
    ")\n",
    "# Paso 3: Ajustar sobre el conjunto de entrenamiento\n",
    "grid.fit(X_train, y_train)\n",
    "# Paso 4: Extraer el mejor modelo directamente\n",
    "classifier = grid.best_estimator_\n",
    "# Ver la mejor profundidad encontrada\n",
    "print(\"Mejor profundidad encontrada:\", grid.best_params_['max_depth'])"
   ]
  },
  {
   "cell_type": "markdown",
   "id": "ef6f14dc-ffa3-4c1c-ae69-6c6c2d0a112f",
   "metadata": {},
   "source": [
    "Usar **GridSearchCV** con un rango de valores para ```max_depth``` en lugar de ajustar directamente un _DecisionTreeClassifier_ permite encontrar automáticamente la profundidad óptima del árbol mediante validación cruzada, lo que mejora el rendimiento del modelo y reduce el riesgo de sobreajuste o subajuste. Mientras que ```classifier.fit(X_train, y_train)``` entrena un único árbol con una profundidad fija (o ilimitada por defecto), GridSearchCV prueba varias profundidades, evalúa cada modelo usando múltiples particiones del conjunto de entrenamiento (```cv=5```), y selecciona el modelo que mejor generaliza según la métrica elegida. Esto hace que el modelo final (```grid.best_estimator_```) sea más robusto y confiable para predecir sobre datos nuevos."
   ]
  },
  {
   "cell_type": "markdown",
   "id": "b4faf36c-992c-4384-abb2-a345fc03e7e2",
   "metadata": {},
   "source": [
    "# Predicciones"
   ]
  },
  {
   "cell_type": "markdown",
   "id": "1c26afdb-c83c-4fad-bf22-9e6cde71fa8f",
   "metadata": {},
   "source": [
    "## Sobre un nuevo resultado"
   ]
  },
  {
   "cell_type": "markdown",
   "id": "be90b976-9b15-4bea-8085-c72065e1686b",
   "metadata": {},
   "source": [
    "**Ejemplo:** Predicción de compra de un cliente de 48 años y un salario anual de $96000"
   ]
  },
  {
   "cell_type": "code",
   "execution_count": 7,
   "id": "44ef0b6b-5846-4cd1-9079-d68392ea5919",
   "metadata": {},
   "outputs": [
    {
     "name": "stdout",
     "output_type": "stream",
     "text": [
      "Predicción para edad 48 y salario 96000: [1]\n"
     ]
    }
   ],
   "source": [
    "resultado = classifier.predict(sc.transform([[48, 96000]]))\n",
    "print(f\"Predicción para edad 48 y salario 96000: {resultado}\")"
   ]
  },
  {
   "cell_type": "markdown",
   "id": "26c81c65-cf06-48c8-b36b-70cf632cb1c4",
   "metadata": {},
   "source": [
    "En este caso, el cliente sí comprará el auto."
   ]
  },
  {
   "cell_type": "markdown",
   "id": "cad7a122-b97c-4067-be05-b68ccb0406fe",
   "metadata": {},
   "source": [
    "## Sobre el Conjunto de Prueba"
   ]
  },
  {
   "cell_type": "code",
   "execution_count": 8,
   "id": "6347e104-39b9-4d61-9ab4-a32fa6234113",
   "metadata": {},
   "outputs": [
    {
     "name": "stdout",
     "output_type": "stream",
     "text": [
      "Predicciones sobre el conjunto de prueba:\n",
      "Valores Predichos vs. Valores Reales\n",
      "[[1 0]\n",
      " [0 0]\n",
      " [1 1]\n",
      " [0 0]\n",
      " [0 0]\n",
      " [0 0]\n",
      " [1 1]\n",
      " [1 0]\n",
      " [1 1]\n",
      " [0 0]\n",
      " [0 1]\n",
      " [0 0]\n",
      " [0 0]\n",
      " [0 0]\n",
      " [1 1]\n",
      " [1 1]\n",
      " [0 0]\n",
      " [0 0]\n",
      " [1 1]\n",
      " [0 0]\n",
      " [0 0]\n",
      " [0 0]\n",
      " [0 0]\n",
      " [1 1]\n",
      " [1 1]\n",
      " [0 1]\n",
      " [0 0]\n",
      " [0 0]\n",
      " [1 1]\n",
      " [0 0]\n",
      " [0 1]\n",
      " [0 0]\n",
      " [0 0]\n",
      " [0 0]\n",
      " [0 0]\n",
      " [0 0]\n",
      " [0 0]\n",
      " [0 0]\n",
      " [0 0]\n",
      " [1 1]\n",
      " [0 0]\n",
      " [1 0]\n",
      " [1 1]\n",
      " [0 0]\n",
      " [1 1]\n",
      " [0 1]\n",
      " [0 0]\n",
      " [0 0]\n",
      " [0 0]\n",
      " [0 0]\n",
      " [1 1]\n",
      " [0 0]\n",
      " [0 0]\n",
      " [0 0]\n",
      " [0 0]\n",
      " [1 1]\n",
      " [1 1]\n",
      " [0 0]\n",
      " [0 0]\n",
      " [0 0]\n",
      " [1 0]\n",
      " [1 1]\n",
      " [1 1]\n",
      " [0 0]\n",
      " [0 0]\n",
      " [0 0]\n",
      " [1 1]\n",
      " [0 0]\n",
      " [0 0]\n",
      " [0 0]\n",
      " [0 0]\n",
      " [1 1]\n",
      " [0 0]\n",
      " [0 0]\n",
      " [0 0]\n",
      " [1 1]\n",
      " [1 1]\n",
      " [1 1]\n",
      " [0 1]\n",
      " [0 0]\n",
      " [0 0]\n",
      " [1 1]\n",
      " [1 1]\n",
      " [0 0]\n",
      " [0 0]\n",
      " [0 0]\n",
      " [1 1]\n",
      " [1 0]\n",
      " [1 1]\n",
      " [1 1]\n",
      " [0 0]\n",
      " [1 1]\n",
      " [1 1]\n",
      " [0 1]\n",
      " [1 1]\n",
      " [1 1]\n",
      " [1 1]\n",
      " [0 0]\n",
      " [0 0]\n",
      " [1 1]\n",
      " [0 0]\n",
      " [0 1]\n",
      " [0 0]\n",
      " [0 0]\n",
      " [1 1]\n",
      " [0 0]\n",
      " [0 0]\n",
      " [1 1]\n",
      " [0 0]\n",
      " [0 0]\n",
      " [0 0]\n",
      " [0 0]\n",
      " [0 0]\n",
      " [0 0]\n",
      " [0 0]\n",
      " [1 1]\n",
      " [0 0]\n",
      " [0 0]\n",
      " [1 1]\n",
      " [0 0]\n",
      " [0 0]\n",
      " [0 0]\n",
      " [0 0]\n",
      " [0 0]\n",
      " [1 1]\n",
      " [1 1]\n",
      " [1 0]\n",
      " [1 1]\n",
      " [1 1]\n",
      " [0 0]\n",
      " [0 0]\n",
      " [0 0]\n",
      " [0 0]\n",
      " [1 1]\n",
      " [0 1]\n",
      " [0 0]\n",
      " [1 1]\n",
      " [0 0]\n",
      " [0 0]\n",
      " [0 0]\n",
      " [1 1]\n",
      " [0 0]\n",
      " [1 1]\n",
      " [1 1]\n",
      " [0 0]\n",
      " [1 1]\n",
      " [0 0]\n",
      " [0 0]\n",
      " [1 1]\n",
      " [0 1]\n",
      " [0 0]\n",
      " [1 1]\n",
      " [1 1]\n",
      " [0 0]\n",
      " [0 0]\n",
      " [0 0]\n",
      " [1 1]\n",
      " [0 0]\n",
      " [0 0]\n",
      " [0 0]\n",
      " [1 0]\n",
      " [1 1]\n",
      " [0 0]\n",
      " [1 1]\n",
      " [0 0]\n",
      " [1 1]\n",
      " [0 0]\n",
      " [1 1]\n",
      " [1 1]\n",
      " [0 0]\n",
      " [1 1]\n",
      " [1 1]\n",
      " [0 0]\n",
      " [0 0]\n",
      " [1 1]\n",
      " [0 0]\n",
      " [1 1]\n",
      " [0 0]\n",
      " [1 1]\n",
      " [0 0]\n",
      " [0 0]\n",
      " [0 0]\n",
      " [0 0]\n",
      " [1 1]\n",
      " [0 0]\n",
      " [0 0]\n",
      " [1 1]\n",
      " [1 1]\n",
      " [1 1]\n",
      " [0 0]\n",
      " [1 1]\n",
      " [0 0]\n",
      " [0 1]\n",
      " [1 1]\n",
      " [1 1]\n",
      " [0 0]\n",
      " [1 1]\n",
      " [0 0]\n",
      " [0 0]\n",
      " [0 0]\n",
      " [0 0]\n",
      " [0 0]\n",
      " [0 0]\n",
      " [0 0]\n",
      " [0 0]\n",
      " [0 0]\n",
      " [1 0]\n",
      " [1 1]\n",
      " [0 1]\n",
      " [0 0]\n",
      " [0 0]\n",
      " [1 1]\n",
      " [0 1]\n",
      " [1 1]\n",
      " [1 1]\n",
      " [0 0]\n",
      " [0 0]\n",
      " [0 1]\n",
      " [0 0]\n",
      " [1 1]\n",
      " [1 1]\n",
      " [0 0]\n",
      " [0 0]\n",
      " [0 0]\n",
      " [0 0]\n",
      " [0 0]\n",
      " [0 0]\n",
      " [0 0]\n",
      " [0 1]\n",
      " [1 1]\n",
      " [0 0]\n",
      " [0 0]\n",
      " [1 1]\n",
      " [1 1]\n",
      " [1 1]\n",
      " [1 1]\n",
      " [1 0]\n",
      " [0 0]\n",
      " [0 0]\n",
      " [0 0]\n",
      " [0 1]\n",
      " [0 0]\n",
      " [1 0]\n",
      " [1 1]\n",
      " [0 0]\n",
      " [0 0]\n",
      " [0 0]\n",
      " [0 0]\n",
      " [1 1]\n",
      " [0 1]]\n"
     ]
    }
   ],
   "source": [
    "y_pred = classifier.predict(X_test)  # Predice las etiquetas para el conjunto de prueba\n",
    "print(\"Predicciones sobre el conjunto de prueba:\")\n",
    "print(\"Valores Predichos vs. Valores Reales\")\n",
    "print(np.concatenate((y_pred.reshape(len(y_pred), 1), y_test.reshape(len(y_test), 1)), 1))  # Compara las predicciones con las etiquetas reales"
   ]
  },
  {
   "cell_type": "markdown",
   "id": "7fbb7136-92b3-4c90-ae01-b6819aa3466e",
   "metadata": {},
   "source": [
    "# ANÁLISIS"
   ]
  },
  {
   "cell_type": "markdown",
   "id": "cb307227-8f09-4849-aa98-e4243a7f6d70",
   "metadata": {},
   "source": [
    "# Matriz de Confusión"
   ]
  },
  {
   "cell_type": "markdown",
   "id": "f89ac4d4-addc-41a4-989a-641b0c0f171c",
   "metadata": {},
   "source": [
    "La matriz de confusión muestra el desempeño del modelo comparando las predicciones con las etiquetas reales. Permite ver los aciertos (TP, TN) y los errores (FP, FN) del modelo.\n",
    "Para evaluarlo, se cuenta cuántas observaciones se clasificaron correctamente o incorrectamente.\n",
    "- Un buen modelo tendrá valores altos en la diagonal principal."
   ]
  },
  {
   "cell_type": "code",
   "execution_count": 9,
   "id": "11ab08bb-2b91-473a-b1db-c510fb06f354",
   "metadata": {},
   "outputs": [
    {
     "name": "stdout",
     "output_type": "stream",
     "text": [
      "Matriz de Confusión:\n",
      "[[142  10]\n",
      " [ 16  82]]\n"
     ]
    }
   ],
   "source": [
    "cm = confusion_matrix(y_test, y_pred)\n",
    "print(\"Matriz de Confusión:\")\n",
    "print(cm)"
   ]
  },
  {
   "cell_type": "markdown",
   "id": "cfe58bb3-02bb-4553-8dfc-e25f5e7b130c",
   "metadata": {},
   "source": [
    "En base a la matriz, el modelo clasificó correctamente 142 casos negativos y 82 positivos, mientras que se equivocó en 10 falsos positivos y 16 falsos negativos. A pesar de estos errores, _**el modelo tiene una buena clasificación general**_, pues solo se tienen 26 errores de los 250 datos usados."
   ]
  },
  {
   "cell_type": "markdown",
   "id": "b9cbee9f-4071-45e3-8792-e7a54aa5ae96",
   "metadata": {},
   "source": [
    "# Accuracy"
   ]
  },
  {
   "cell_type": "markdown",
   "id": "42746ff9-33f2-4c81-bc66-7781772b65da",
   "metadata": {},
   "source": [
    "Mide el porcentaje total de predicciones correctas del modelo sobre el total de las muestras. Su evaluación es dada por un número entre 0 y 1, mientras más cercano a 1 (o 100%), mejor es el desempeño del modelo en general."
   ]
  },
  {
   "cell_type": "code",
   "execution_count": 10,
   "id": "6e49fa64-4086-4627-9973-1ac49bc85190",
   "metadata": {},
   "outputs": [
    {
     "name": "stdout",
     "output_type": "stream",
     "text": [
      "Precisión Global (Accuracy): 0.8960\n"
     ]
    }
   ],
   "source": [
    "accuracy = accuracy_score(y_test, y_pred)\n",
    "print(f\"Precisión Global (Accuracy): {accuracy:.4f}\")"
   ]
  },
  {
   "cell_type": "markdown",
   "id": "8275f672-4f22-4598-832a-fd33cbe4ddbd",
   "metadata": {},
   "source": [
    "Esta métrica nos dice que el modelo acierta en el **_89.6%_** de los casos, lo cual, apoyado con la resolución de la matriz de confusión, concluye en que **_el modelo tiene un buen desempeño general_**, pues realiza predicciones confiables."
   ]
  },
  {
   "cell_type": "markdown",
   "id": "67df9392-a1f3-42a9-99af-a43d0fb39afd",
   "metadata": {},
   "source": [
    "# Precision"
   ]
  },
  {
   "cell_type": "markdown",
   "id": "8e235ce3-b4b2-4646-9185-de5e9d24c4b8",
   "metadata": {},
   "source": [
    "Es una métrica que mide cuántas de las muestras clasificadas como positivas realmente lo son (verdaderos positivos).<br>\n",
    "Su interpretación se realiza de la siguiente manera:\n",
    "- **Precision alta (> 0.7):** El modelo tiene un _**bajo número de falsos positivos**_. Es decir, cuando predice que algo es positivo, generalmente tiene razón.\n",
    "- **Precision baja (< 0.5):** El modelo está haciendo _**muchos falsos positivos**_. En estos casos, el modelo tiende a etiquetar incorrectamente como positivos muchos ejemplos negativos, lo que puede ser un problema si la consecuencia de un falso positivo es costosa, como los casos de arrestar a una persona inocente o diagnosticar erróneamente una enfermedad."
   ]
  },
  {
   "cell_type": "code",
   "execution_count": 11,
   "id": "1697519f-cdb0-4d8c-ae53-811f2956017a",
   "metadata": {},
   "outputs": [
    {
     "name": "stdout",
     "output_type": "stream",
     "text": [
      "Precisión (Precision): 0.8913\n"
     ]
    }
   ],
   "source": [
    "precision = precision_score(y_test, y_pred)\n",
    "print(f\"Precisión (Precision): {precision:.4f}\")"
   ]
  },
  {
   "cell_type": "markdown",
   "id": "4fb1e909-10cb-4575-a119-c53607698d8d",
   "metadata": {},
   "source": [
    "En base al resultado, el _**89.13% de las veces que el modelo predijo que alguien compraría un carro, acertó**_."
   ]
  },
  {
   "cell_type": "markdown",
   "id": "be2e173a-c571-4450-9586-e9ba58c2fe88",
   "metadata": {},
   "source": [
    "# Recall (Sensibilidad)"
   ]
  },
  {
   "cell_type": "markdown",
   "id": "306d8397-7549-41b9-98b6-c9bb0a9d8a4c",
   "metadata": {},
   "source": [
    "El recall o sensibilidad mide la capacidad del modelo para identificar correctamente los positivos reales.<br>\n",
    "Su interpretación es la siguiente:\n",
    "- **Recall alto (> 0.7):** El modelo es _**bueno para detectar casos positivos**_. Es decir, tiene una baja tasa de falsos negativos, lo que es crucial cuando un falso negativo es muy costoso.\n",
    "- **Recall bajo (< 0.5):** El modelo está _**pasando por alto muchos casos positivos**_, lo cual puede ser peligroso en contextos donde no detectar algo realmente importante podría tener consecuencias graves, como no detectar una enfermedad o no detectar un fraude."
   ]
  },
  {
   "cell_type": "code",
   "execution_count": 12,
   "id": "032112fc-f90c-476b-b7d7-fccbfb184a48",
   "metadata": {},
   "outputs": [
    {
     "name": "stdout",
     "output_type": "stream",
     "text": [
      "Recall (Sensibilidad): 0.8367\n"
     ]
    }
   ],
   "source": [
    "recall = recall_score(y_test, y_pred)\n",
    "print(f\"Recall (Sensibilidad): {recall:.4f}\")"
   ]
  },
  {
   "cell_type": "markdown",
   "id": "beb0fe2f-8eff-4bb9-9b3f-313af3cfd32f",
   "metadata": {},
   "source": [
    "Lo obtenido en la métrica establece que _**el modelo detecta correctamente el 83.67% de los casos en los que un cliente realmente compra un vehículo**_."
   ]
  },
  {
   "cell_type": "markdown",
   "id": "ae5a55e4-ecb2-4b5f-8bef-fce41f009cd5",
   "metadata": {},
   "source": [
    "# F1 Score"
   ]
  },
  {
   "cell_type": "markdown",
   "id": "e1342001-c4ad-4bcd-b8b5-2c33910d663e",
   "metadata": {},
   "source": [
    "Es un promedio que combina precisión y recall en una sola métrica balanceada.<br>\n",
    "Su evaluación se realiza así:\n",
    "- Se calcula con la fórmula ```2 * (Precision * Recall) / (Precision + Recall)```.\n",
    "- **F1-Score alto (> 0.7):** El modelo tiene un buen balance entre precision y recall. Es ideal en situaciones donde quieres equilibrar ambas métricas y no quieres que el modelo se incline demasiado hacia un lado (precision o recall).\n",
    "- **F1-Score bajo (< 0.5):** Esto indica que el modelo tiene un equilibrio pobre entre precision y recall, lo que generalmente significa que está fallando en al menos una de las dos métricas. Esto es un indicio de que el modelo no está funcionando bien en general."
   ]
  },
  {
   "cell_type": "code",
   "execution_count": 13,
   "id": "bf7e2b6a-5542-4dc7-aeb7-8b4e54e43820",
   "metadata": {},
   "outputs": [
    {
     "name": "stdout",
     "output_type": "stream",
     "text": [
      "F1-Score: 0.8632\n"
     ]
    }
   ],
   "source": [
    "f1 = f1_score(y_test, y_pred)\n",
    "print(f\"F1-Score: {f1:.4f}\")"
   ]
  },
  {
   "cell_type": "markdown",
   "id": "8eb5ed21-3410-4ed9-a73c-4cde94b6500a",
   "metadata": {},
   "source": [
    "El F1 Score nos indica que el modelo tiene un buen equilibrio entre precisión y calidad, pues su valor es de _**86.32%**_, lo que indica un _**buen equilibrio entre precisión y sensibilidad las métricas de precisión y recall**_."
   ]
  },
  {
   "cell_type": "markdown",
   "id": "a9da944c-2ae0-4216-b3a4-8b9fd1083445",
   "metadata": {},
   "source": [
    "# Curva ROC & Área bajo la Curva ROC (AUC)"
   ]
  },
  {
   "cell_type": "markdown",
   "id": "e83c144e-bf48-4428-95db-58a3bd13c919",
   "metadata": {},
   "source": [
    "Por un lado, la Curva ROC (_Receiver Operating Characteristic_), es una gráfica que muestra cómo cambia el modelo si se ajusta el umbral de clasificación, teniendo al eje X como la Tasa de Falsos Positivos (FPR) y al eje Y como la Tasa de Verdaderos Positivos (TPR). Una curva más cerca de la esquina superior izquierda indica que es un mejor modelo.<br>\n",
    "Generalmente, si hay una _**curva cerca de la esquina superior izquierda**_, el modelo tiene una alta capacidad de discriminación, lo que significa que es muy bueno para separar las clases (Cuanto más hacia la esquina superior izquierda, mejor), y cuando hay una **_curva cerca de la diagonal (línea punteada)_**, esto indica un modelo que tiene un rendimiento similar al azar (AUC cercano a 0.5), por lo que no está discriminando bien las clases."
   ]
  },
  {
   "cell_type": "markdown",
   "id": "5e6fa63c-1106-4645-82c7-cff0a9524a8f",
   "metadata": {},
   "source": [
    "Por otro lado, la Área bajo la curva ROC (_AUC_) resume la ROC con un número entre 0 y 1. Mientras más cercano a 1, mejor el modelo distingue entre las clases. <br>\n",
    "Se interpreta de la siguiente forma:\n",
    "- **AUC alto (> 0.8):** El modelo tiene una excelente capacidad para separar las clases. Cuanto más cerca de 1, mejor.\n",
    "- **AUC cercano a 0.5:** El modelo es prácticamente aleatorio y no tiene capacidad de discriminación.\n",
    "- **AUC bajo (< 0.6):** El modelo tiene una muy baja capacidad de discriminación y probablemente no sea útil."
   ]
  },
  {
   "cell_type": "code",
   "execution_count": 14,
   "id": "46d975ee-b617-4533-85d7-c39867085410",
   "metadata": {},
   "outputs": [
    {
     "data": {
      "image/png": "[encoded data removed]",
      "text/plain": [
       "<Figure size 640x480 with 1 Axes>"
      ]
     },
     "metadata": {},
     "output_type": "display_data"
    },
    {
     "name": "stdout",
     "output_type": "stream",
     "text": [
      "AUC: 0.9564\n"
     ]
    }
   ],
   "source": [
    "y_prob = classifier.predict_proba(X_test)[:, 1]\n",
    "fpr, tpr, thresholds = roc_curve(y_test, y_prob)\n",
    "auc = roc_auc_score(y_test, y_prob)\n",
    "\n",
    "plt.plot(fpr, tpr, color='blue', label=f'AUC = {auc:.4f}')\n",
    "plt.plot([0, 1], [0, 1], linestyle='--', color='gray')\n",
    "plt.xlabel('Tasa de Falsos Positivos')\n",
    "plt.ylabel('Tasa de Verdaderos Positivos')\n",
    "plt.title('Curva ROC - Decision Tree')\n",
    "plt.legend()\n",
    "plt.grid()\n",
    "plt.show()\n",
    "\n",
    "print(f\"AUC: {auc:.4f}\")"
   ]
  },
  {
   "cell_type": "markdown",
   "id": "5a61f2b4-be7f-486e-a6fe-7212d6a96d5f",
   "metadata": {},
   "source": [
    "- Gráficamente, la curva tiene una forma óptima, en la que se encuentra más cerca a la esquina superior izquierda, indicando que hay una _**buena capacidad de discriminación entre los clientes que compran un auto y los que no lo hacen**_.\n",
    "- Estadísticamente, _**el modelo tiene una excelente capacidad de distinguir entre clientes que comprarán un auto y los que no**_, pues tiene una probabilidad del _**95.64%**_ de discriminación acertada. Esto refuerza aún más la evidencia gráfica de la Curva ROC"
   ]
  },
  {
   "cell_type": "markdown",
   "id": "5f57edd3-420c-4df9-8b12-22774b9cd361",
   "metadata": {},
   "source": [
    "# Profundidad del Árbol"
   ]
  },
  {
   "cell_type": "markdown",
   "id": "c763fc89-1863-4dd9-804c-f8213265f8be",
   "metadata": {},
   "source": [
    "La profundidad del árbol representa el número máximo de niveles del modelo, y se evalúa de la siguiente manera:\n",
    "- Un **árbol más profundo** es **más complejo** y puede haber sobreajuste (**Overfitting**).\n",
    "- Un **árbol menos profundo** es **menos complejo** y hay posibilidad de que haya subajuste (**Underfitting**)."
   ]
  },
  {
   "cell_type": "code",
   "execution_count": 15,
   "id": "964bc319-683a-4a53-9374-7b193333dceb",
   "metadata": {},
   "outputs": [
    {
     "name": "stdout",
     "output_type": "stream",
     "text": [
      "Profundidad del Árbol:\n",
      "5\n"
     ]
    }
   ],
   "source": [
    "print(\"Profundidad del Árbol:\")\n",
    "print(classifier.get_depth())"
   ]
  },
  {
   "cell_type": "markdown",
   "id": "617c9a48-7763-4ba2-9817-d9f55d106bbe",
   "metadata": {},
   "source": [
    "Gracias al uso de ```GridSearchCV``` para obtener el valor óptimo para la profundidad del modelo (```grid.best_estimator_```), se determinó que el **árbol con profundidad 5 es el mejor**, pues tiene una profundidad que _evita el Underfitting y el Overfitting_, ayudando a **mantener el balance entre _Precisión_ y _Generalización_**."
   ]
  },
  {
   "cell_type": "markdown",
   "id": "a0793b0f-e666-4176-a1af-132dd07b48ef",
   "metadata": {},
   "source": [
    "# Número de Hojas"
   ]
  },
  {
   "cell_type": "markdown",
   "id": "66557aea-6337-46c2-8c91-228638715fbd",
   "metadata": {},
   "source": [
    "Las hojas son los nodos terminales del árbol. Se requiere evaluarlos en conjunto con otras características como la profundidad del árbol, el accuracy del modelo, entre otras, para determinar si es un modelo confiable o no.\n",
    "- Más hojas pueden indicar un árbol sobreajustado."
   ]
  },
  {
   "cell_type": "code",
   "execution_count": 16,
   "id": "055bc6c7-0869-48b3-bcda-fa6cf582b9a9",
   "metadata": {},
   "outputs": [
    {
     "name": "stdout",
     "output_type": "stream",
     "text": [
      "Número de hojas del árbol:\n",
      "20\n"
     ]
    }
   ],
   "source": [
    "print(\"Número de hojas del árbol:\")\n",
    "print(classifier.get_n_leaves())"
   ]
  },
  {
   "cell_type": "markdown",
   "id": "72b3a7f7-c8a9-4a13-86db-ef5e45420b2d",
   "metadata": {},
   "source": [
    "El hecho de que el modelo tenga 20 hojas implica que **_el árbol está tomando 20 decisiones distintas sobre cómo clasificar los datos_**. Se requiere evaluar junto a otras métricas que ya se han calculado en la práctica."
   ]
  },
  {
   "cell_type": "markdown",
   "id": "4c81b34e-d1da-4fce-9047-b0b4d13c5904",
   "metadata": {},
   "source": [
    "# Importancia de Características"
   ]
  },
  {
   "cell_type": "markdown",
   "id": "f23397f4-0c49-4e76-8211-0925a360fbe3",
   "metadata": {},
   "source": [
    "Esta métrica indica qué tan relevante fue cada variable para las divisiones del árbol."
   ]
  },
  {
   "cell_type": "code",
   "execution_count": 17,
   "id": "14d742b5-15ca-4a17-b5cd-0bcdda3dd5ba",
   "metadata": {},
   "outputs": [
    {
     "name": "stdout",
     "output_type": "stream",
     "text": [
      "Age: 0.4849\n",
      "AnnualSalary: 0.5151\n"
     ]
    }
   ],
   "source": [
    "features = ['Age', 'AnnualSalary']\n",
    "importancias = classifier.feature_importances_\n",
    "\n",
    "for feature, importance in zip(features, importancias):\n",
    "    print(f\"{feature}: {importance:.4f}\")"
   ]
  },
  {
   "cell_type": "markdown",
   "id": "98fc8d96-41f1-4f63-a3e2-9bc9a0834258",
   "metadata": {},
   "source": [
    "En base a las dos variables independientes del modelo, se podría decir que el _**salario anual (0.51) tuvo un mayor peso en la decisión del árbol que la edad (0.48)**_, aunque su _diferencia no es mucha_, por lo que **ambas variables son importantes para poder tomar decisiones de manera acertada**."
   ]
  },
  {
   "cell_type": "markdown",
   "id": "f7aedd20-b5d3-4bf6-a908-590e227435c7",
   "metadata": {},
   "source": [
    "# CONCLUSIONES"
   ]
  },
  {
   "cell_type": "markdown",
   "id": "84659e1c-e4e8-453d-a212-2001d9b30275",
   "metadata": {},
   "source": [
    "Para resumir, las variables de Edad y Salario Anual de un cliente eran determinantes para clasificar si este compraría o no un coche, por lo que se las estableció como variables independientes, y a esta decisión de compra como variable dependiente, debido a que estas dos primeras no tienen relación entre sí y la combinación de ellas influye en el cliente al momento de comprar un vehículo. Por otro lado, las métricas analizadas arrojaron los siguientes resultados:\n",
    "- Al tener un **Accuracy o Precisión Global del 89.6% para la calidad de las predicciones del modelo**, sumado a que, en la **Matriz de Confusión**, **solo se equivocó 26 veces de un total de 250**, podemos concluir que _**el modelo tiene un buen rendimiento a nivel general**_. Además, apoyado en otras métricas como la Precisión (89.1%) y Sensibilidad (83.67%), las cuales son evaluadas en el F1 Score (86.32%), se respalda este argumento, pues sus valores indican un buen balance entre las primeras dos, significando que, _**en la discriminación del modelo, hay pocos casos de falsos positivos y una buena detección de verdaderos positivos**_.\n",
    "- Por otro lado, la __Curva ROC y su Área bajo la Curva (95.64%) resaltan la capacidad de discriminación correcta del modelo para sus casos__.\n",
    "- El _**árbol**_, al tener una profundidad de 5 y 20, indica que es _**moderadamente complejo**_, un aspecto positivo dado que el AUC y las métricas de precisión y recall son altas. Adicionalmente, esto nos indica que _**existe una generalización razonable de datos**_, pues el árbol no es tan profundo como para sobreajustar, y aún así está haciendo divisiones útiles.\n",
    "- Finalmente, con un solo árbol de decisión se concluye que _**la variable más influyente en la compra de un vehículo por parte de un cliente es su Salario Anual, con un valor de 0.51; aunque, la Edad no se queda atrás, pues tiene un valor de 0.48**_, siendo una diferencia mínima entre la importancia de estas dos variables. Esto es indicador de que ambas son importantes para el modelo."
   ]
  },
  {
   "cell_type": "code",
   "execution_count": null,
   "id": "09018cfe-ee47-4395-8af6-bf7a1da24efc",
   "metadata": {},
   "outputs": [],
   "source": []
  }
 ],
 "metadata": {
  "kernelspec": {
   "display_name": "Python 3 (ipykernel)",
   "language": "python",
   "name": "python3"
  },
  "language_info": {
   "codemirror_mode": {
    "name": "ipython",
    "version": 3
   },
   "file_extension": ".py",
   "mimetype": "text/x-python",
   "name": "python",
   "nbconvert_exporter": "python",
   "pygments_lexer": "ipython3",
   "version": "3.11.7"
  }
 },
 "nbformat": 4,
 "nbformat_minor": 5
}
