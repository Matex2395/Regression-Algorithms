{
 "cells": [
  {
   "cell_type": "markdown",
   "id": "86b202a0-cb80-4eb1-8b53-4fca7b76dc30",
   "metadata": {},
   "source": [
    "# Clasificación Random Forest (RF)"
   ]
  },
  {
   "cell_type": "markdown",
   "id": "90c926a8-fef0-441f-9c29-5e7f1f0c7c48",
   "metadata": {},
   "source": [
    "Mateo Rosero"
   ]
  },
  {
   "cell_type": "markdown",
   "id": "43d7aa95-2198-461f-9140-0be593279fa0",
   "metadata": {},
   "source": [
    "## Explicaciones Clave\n",
    "**Sobre el dataset:** ``car_data.csv`` contiene datos para determinar si un cliente comprará un automóvil (1) o no (0) en base a dos variables independientes:\n",
    "- _Age_ --> Edad del cliente en años.\n",
    "- _AnnualSalary_ --> Salario anual del cliente. <br>\n",
    "\n",
    "**Entrenamiento del modelo:** Se utilizará la librería de ``skearn`` para poder implementar el algoritmo de Clasificación por Random Forest (RF)."
   ]
  },
  {
   "cell_type": "markdown",
   "id": "07d03c78-d6b4-4714-aadd-6ce563d99736",
   "metadata": {},
   "source": [
    "# Importar Librerías Necesarias"
   ]
  },
  {
   "cell_type": "code",
   "execution_count": 1,
   "id": "dfe3c795-55d9-45ca-b6b0-d197a25b5e49",
   "metadata": {},
   "outputs": [],
   "source": [
    "import numpy as np\n",
    "import matplotlib.pyplot as plt\n",
    "import pandas as pd\n",
    "from sklearn.model_selection import train_test_split\n",
    "from sklearn.preprocessing import StandardScaler\n",
    "from sklearn.ensemble import RandomForestClassifier\n",
    "from sklearn.model_selection import GridSearchCV, cross_val_score\n",
    "from sklearn.metrics import confusion_matrix, accuracy_score, precision_score, recall_score, f1_score, roc_curve, roc_auc_score\n",
    "from matplotlib.colors import ListedColormap"
   ]
  },
  {
   "cell_type": "markdown",
   "id": "14e797e3-03f8-4e8b-b694-9f82a261b22f",
   "metadata": {},
   "source": [
    "# Importar el Dataset"
   ]
  },
  {
   "cell_type": "code",
   "execution_count": 2,
   "id": "06b8f813-c80c-4466-9147-d97b12128f51",
   "metadata": {},
   "outputs": [],
   "source": [
    "dataset = pd.read_csv('car_data.csv')"
   ]
  },
  {
   "cell_type": "markdown",
   "id": "97091dc4-c18f-4a04-a605-eeb1942cb3a4",
   "metadata": {},
   "source": [
    "# Definición de Variable Independiente y Dependiente"
   ]
  },
  {
   "cell_type": "code",
   "execution_count": 3,
   "id": "e8638d2d-b397-44f3-a025-2255aa1a9931",
   "metadata": {},
   "outputs": [],
   "source": [
    "X = dataset[['Age', 'AnnualSalary']].values  # Extrae las variables independientes\n",
    "y = dataset['Purchased'].values  # Extrae la variable dependiente"
   ]
  },
  {
   "cell_type": "markdown",
   "id": "edc91596-b3ea-4613-84fc-1f3e1f806bea",
   "metadata": {},
   "source": [
    "En este dataset, la decisión de un cliente de comprar o no un coche está dada según su edad y salario anual. Por esta razón, esta variable cualitativa dicotómica es la variable dependiente y las variables numéricas son variables independientes."
   ]
  },
  {
   "cell_type": "markdown",
   "id": "a96017fa-73ba-4d5b-a973-bf7a21c51f2c",
   "metadata": {},
   "source": [
    "# División entre Conjunto de Entrenamiento y Conjunto de Prueba"
   ]
  },
  {
   "cell_type": "code",
   "execution_count": 4,
   "id": "24a8a65f-be5f-4641-af61-99927f5b8082",
   "metadata": {},
   "outputs": [],
   "source": [
    "X_train, X_test, y_train, y_test = train_test_split(X, y, test_size = 0.25, random_state = 0)"
   ]
  },
  {
   "cell_type": "markdown",
   "id": "9912d300-b19b-4abf-82a6-aa485e60d4f7",
   "metadata": {},
   "source": [
    "# Escalado de Características (Feature Scaling)"
   ]
  },
  {
   "cell_type": "code",
   "execution_count": 5,
   "id": "38dc249d-f035-40b1-ae82-452cc7423d56",
   "metadata": {},
   "outputs": [],
   "source": [
    "sc = StandardScaler()\n",
    "X_train = sc.fit_transform(X_train)\n",
    "X_test = sc.transform(X_test)"
   ]
  },
  {
   "cell_type": "markdown",
   "id": "c019c024-0b15-4599-9aa2-07290b5c8b1d",
   "metadata": {},
   "source": [
    "# Entrenando el Modelo Random Forest sobre el Conjunto de Entrenamiento usando GridSearchCV"
   ]
  },
  {
   "cell_type": "code",
   "execution_count": 6,
   "id": "945f5cdd-7c83-4900-b431-585cbeb4827a",
   "metadata": {},
   "outputs": [
    {
     "name": "stdout",
     "output_type": "stream",
     "text": [
      "Mejores hiperparámetros: {'criterion': 'gini', 'max_depth': None, 'min_samples_split': 10, 'n_estimators': 200}\n"
     ]
    }
   ],
   "source": [
    "# Código Original de Entrenamiento\n",
    "#classifier = RandomForestClassifier(n_estimators = 10, criterion = 'entropy', random_state = 0)\n",
    "#classifier.fit(X_train, y_train)\n",
    "\n",
    "# Definir el espacio de búsqueda de hiperparámetros\n",
    "param_grid = {\n",
    "    'n_estimators': [50, 100, 200], \n",
    "    'max_depth': [None, 10, 20, 30],\n",
    "    'min_samples_split': [2, 5, 10],\n",
    "    'criterion': ['gini', 'entropy']\n",
    "}\n",
    "\n",
    "# Crear el modelo base\n",
    "rf = RandomForestClassifier(random_state=0)\n",
    "\n",
    "# Configurar la búsqueda con validación cruzada\n",
    "grid = GridSearchCV(estimator=rf, param_grid=param_grid, cv=5, n_jobs=-1)\n",
    "\n",
    "# Ajustar el modelo\n",
    "grid.fit(X_train, y_train)\n",
    "\n",
    "# Obtener el mejor modelo encontrado\n",
    "classifier = grid.best_estimator_\n",
    "\n",
    "# Mostrar los mejores hiperparámetros encontrados\n",
    "print(\"Mejores hiperparámetros:\", grid.best_params_)"
   ]
  },
  {
   "cell_type": "markdown",
   "id": "ef6f14dc-ffa3-4c1c-ae69-6c6c2d0a112f",
   "metadata": {},
   "source": [
    "Usar **GridSearchCV** con un valor inicial de 50 para ```n_estimators```, indica que el árbol será menos propenso a caer en subajuste (Underfitting) y mucho menos en sobreajuste (Overfitting), pues 10 suele ser un valor muy bajo y tiene riesgo de subajuste."
   ]
  },
  {
   "cell_type": "markdown",
   "id": "b4faf36c-992c-4384-abb2-a345fc03e7e2",
   "metadata": {},
   "source": [
    "# Predicciones"
   ]
  },
  {
   "cell_type": "markdown",
   "id": "1c26afdb-c83c-4fad-bf22-9e6cde71fa8f",
   "metadata": {},
   "source": [
    "## Sobre un nuevo resultado"
   ]
  },
  {
   "cell_type": "markdown",
   "id": "be90b976-9b15-4bea-8085-c72065e1686b",
   "metadata": {},
   "source": [
    "**Ejemplo:** Predicción de compra de un cliente de 25 años y un salario anual de $30000"
   ]
  },
  {
   "cell_type": "code",
   "execution_count": 7,
   "id": "44ef0b6b-5846-4cd1-9079-d68392ea5919",
   "metadata": {},
   "outputs": [
    {
     "name": "stdout",
     "output_type": "stream",
     "text": [
      "Predicción para edad 48 y salario 96000: [0]\n"
     ]
    }
   ],
   "source": [
    "resultado = classifier.predict(sc.transform([[25, 30000]]))\n",
    "print(f\"Predicción para edad 48 y salario 96000: {resultado}\")"
   ]
  },
  {
   "cell_type": "markdown",
   "id": "26c81c65-cf06-48c8-b36b-70cf632cb1c4",
   "metadata": {},
   "source": [
    "En este caso, el cliente no comprará el auto."
   ]
  },
  {
   "cell_type": "markdown",
   "id": "cad7a122-b97c-4067-be05-b68ccb0406fe",
   "metadata": {},
   "source": [
    "## Sobre el Conjunto de Prueba"
   ]
  },
  {
   "cell_type": "code",
   "execution_count": 8,
   "id": "6347e104-39b9-4d61-9ab4-a32fa6234113",
   "metadata": {},
   "outputs": [
    {
     "name": "stdout",
     "output_type": "stream",
     "text": [
      "Predicciones sobre el conjunto de prueba:\n",
      "Valores Predichos vs. Valores Reales\n",
      "[[1 0]\n",
      " [0 0]\n",
      " [1 1]\n",
      " [0 0]\n",
      " [0 0]\n",
      " [0 0]\n",
      " [1 1]\n",
      " [1 0]\n",
      " [1 1]\n",
      " [0 0]\n",
      " [0 1]\n",
      " [0 0]\n",
      " [0 0]\n",
      " [0 0]\n",
      " [1 1]\n",
      " [1 1]\n",
      " [0 0]\n",
      " [0 0]\n",
      " [1 1]\n",
      " [0 0]\n",
      " [0 0]\n",
      " [0 0]\n",
      " [0 0]\n",
      " [1 1]\n",
      " [1 1]\n",
      " [0 1]\n",
      " [0 0]\n",
      " [0 0]\n",
      " [1 1]\n",
      " [0 0]\n",
      " [0 1]\n",
      " [0 0]\n",
      " [0 0]\n",
      " [0 0]\n",
      " [0 0]\n",
      " [0 0]\n",
      " [0 0]\n",
      " [0 0]\n",
      " [0 0]\n",
      " [1 1]\n",
      " [0 0]\n",
      " [1 0]\n",
      " [1 1]\n",
      " [0 0]\n",
      " [1 1]\n",
      " [0 1]\n",
      " [0 0]\n",
      " [0 0]\n",
      " [0 0]\n",
      " [0 0]\n",
      " [1 1]\n",
      " [0 0]\n",
      " [0 0]\n",
      " [0 0]\n",
      " [0 0]\n",
      " [1 1]\n",
      " [1 1]\n",
      " [0 0]\n",
      " [0 0]\n",
      " [0 0]\n",
      " [1 0]\n",
      " [1 1]\n",
      " [1 1]\n",
      " [0 0]\n",
      " [0 0]\n",
      " [0 0]\n",
      " [1 1]\n",
      " [0 0]\n",
      " [0 0]\n",
      " [0 0]\n",
      " [0 0]\n",
      " [1 1]\n",
      " [0 0]\n",
      " [0 0]\n",
      " [0 0]\n",
      " [1 1]\n",
      " [1 1]\n",
      " [1 1]\n",
      " [1 1]\n",
      " [0 0]\n",
      " [0 0]\n",
      " [1 1]\n",
      " [1 1]\n",
      " [0 0]\n",
      " [0 0]\n",
      " [0 0]\n",
      " [1 1]\n",
      " [1 0]\n",
      " [1 1]\n",
      " [0 1]\n",
      " [0 0]\n",
      " [1 1]\n",
      " [1 1]\n",
      " [0 1]\n",
      " [1 1]\n",
      " [1 1]\n",
      " [1 1]\n",
      " [0 0]\n",
      " [0 0]\n",
      " [1 1]\n",
      " [0 0]\n",
      " [1 1]\n",
      " [0 0]\n",
      " [0 0]\n",
      " [0 1]\n",
      " [0 0]\n",
      " [0 0]\n",
      " [1 1]\n",
      " [0 0]\n",
      " [0 0]\n",
      " [0 0]\n",
      " [0 0]\n",
      " [0 0]\n",
      " [0 0]\n",
      " [0 0]\n",
      " [1 1]\n",
      " [0 0]\n",
      " [0 0]\n",
      " [1 1]\n",
      " [0 0]\n",
      " [0 0]\n",
      " [0 0]\n",
      " [0 0]\n",
      " [0 0]\n",
      " [1 1]\n",
      " [1 1]\n",
      " [0 0]\n",
      " [1 1]\n",
      " [1 1]\n",
      " [0 0]\n",
      " [0 0]\n",
      " [0 0]\n",
      " [0 0]\n",
      " [1 1]\n",
      " [1 1]\n",
      " [0 0]\n",
      " [1 1]\n",
      " [0 0]\n",
      " [0 0]\n",
      " [0 0]\n",
      " [1 1]\n",
      " [0 0]\n",
      " [1 1]\n",
      " [1 1]\n",
      " [0 0]\n",
      " [1 1]\n",
      " [0 0]\n",
      " [0 0]\n",
      " [1 1]\n",
      " [1 1]\n",
      " [0 0]\n",
      " [1 1]\n",
      " [1 1]\n",
      " [0 0]\n",
      " [0 0]\n",
      " [0 0]\n",
      " [1 1]\n",
      " [0 0]\n",
      " [0 0]\n",
      " [0 0]\n",
      " [1 0]\n",
      " [1 1]\n",
      " [0 0]\n",
      " [1 1]\n",
      " [0 0]\n",
      " [1 1]\n",
      " [0 0]\n",
      " [1 1]\n",
      " [1 1]\n",
      " [0 0]\n",
      " [1 1]\n",
      " [1 1]\n",
      " [0 0]\n",
      " [0 0]\n",
      " [1 1]\n",
      " [0 0]\n",
      " [1 1]\n",
      " [0 0]\n",
      " [1 1]\n",
      " [0 0]\n",
      " [0 0]\n",
      " [0 0]\n",
      " [0 0]\n",
      " [1 1]\n",
      " [0 0]\n",
      " [0 0]\n",
      " [1 1]\n",
      " [1 1]\n",
      " [1 1]\n",
      " [0 0]\n",
      " [1 1]\n",
      " [0 0]\n",
      " [1 1]\n",
      " [1 1]\n",
      " [1 1]\n",
      " [0 0]\n",
      " [1 1]\n",
      " [0 0]\n",
      " [0 0]\n",
      " [0 0]\n",
      " [0 0]\n",
      " [0 0]\n",
      " [0 0]\n",
      " [0 0]\n",
      " [0 0]\n",
      " [0 0]\n",
      " [1 0]\n",
      " [1 1]\n",
      " [0 1]\n",
      " [0 0]\n",
      " [0 0]\n",
      " [1 1]\n",
      " [1 1]\n",
      " [1 1]\n",
      " [1 1]\n",
      " [0 0]\n",
      " [0 0]\n",
      " [0 1]\n",
      " [0 0]\n",
      " [1 1]\n",
      " [1 1]\n",
      " [0 0]\n",
      " [0 0]\n",
      " [0 0]\n",
      " [0 0]\n",
      " [0 0]\n",
      " [0 0]\n",
      " [0 0]\n",
      " [0 1]\n",
      " [1 1]\n",
      " [0 0]\n",
      " [0 0]\n",
      " [1 1]\n",
      " [1 1]\n",
      " [1 1]\n",
      " [0 1]\n",
      " [0 0]\n",
      " [0 0]\n",
      " [0 0]\n",
      " [0 0]\n",
      " [1 1]\n",
      " [0 0]\n",
      " [1 0]\n",
      " [0 1]\n",
      " [0 0]\n",
      " [0 0]\n",
      " [0 0]\n",
      " [0 0]\n",
      " [1 1]\n",
      " [0 1]]\n"
     ]
    }
   ],
   "source": [
    "y_pred = classifier.predict(X_test)  # Predice las etiquetas para el conjunto de prueba\n",
    "print(\"Predicciones sobre el conjunto de prueba:\")\n",
    "print(\"Valores Predichos vs. Valores Reales\")\n",
    "print(np.concatenate((y_pred.reshape(len(y_pred), 1), y_test.reshape(len(y_test), 1)), 1))  # Compara las predicciones con las etiquetas reales"
   ]
  },
  {
   "cell_type": "markdown",
   "id": "7fbb7136-92b3-4c90-ae01-b6819aa3466e",
   "metadata": {},
   "source": [
    "# ANÁLISIS"
   ]
  },
  {
   "cell_type": "markdown",
   "id": "cb307227-8f09-4849-aa98-e4243a7f6d70",
   "metadata": {},
   "source": [
    "# Matriz de Confusión"
   ]
  },
  {
   "cell_type": "markdown",
   "id": "f89ac4d4-addc-41a4-989a-641b0c0f171c",
   "metadata": {},
   "source": [
    "La matriz de confusión muestra el desempeño del modelo comparando las predicciones con las etiquetas reales. Permite ver los aciertos (TP, TN) y los errores (FP, FN) del modelo.\n",
    "Para evaluarlo, se cuenta cuántas observaciones se clasificaron correctamente o incorrectamente.\n",
    "- Un buen modelo tendrá valores altos en la diagonal principal."
   ]
  },
  {
   "cell_type": "code",
   "execution_count": 9,
   "id": "11ab08bb-2b91-473a-b1db-c510fb06f354",
   "metadata": {},
   "outputs": [
    {
     "name": "stdout",
     "output_type": "stream",
     "text": [
      "Matriz de Confusión:\n",
      "[[144   8]\n",
      " [ 13  85]]\n"
     ]
    }
   ],
   "source": [
    "cm = confusion_matrix(y_test, y_pred)\n",
    "print(\"Matriz de Confusión:\")\n",
    "print(cm)"
   ]
  },
  {
   "cell_type": "markdown",
   "id": "cfe58bb3-02bb-4553-8dfc-e25f5e7b130c",
   "metadata": {},
   "source": [
    "En base a la matriz, el modelo clasificó correctamente 144 casos negativos y 85 positivos, mientras que se equivocó en 8 falsos positivos y 13 falsos negativos. A pesar de esto, se puede decir que _**el modelo comete pocos errores, indicando una buena clasificación**_, dado que solo se tienen 21 errores de los 250 datos de muestra."
   ]
  },
  {
   "cell_type": "markdown",
   "id": "b9cbee9f-4071-45e3-8792-e7a54aa5ae96",
   "metadata": {},
   "source": [
    "# Accuracy"
   ]
  },
  {
   "cell_type": "markdown",
   "id": "42746ff9-33f2-4c81-bc66-7781772b65da",
   "metadata": {},
   "source": [
    "Mide el porcentaje total de predicciones correctas del modelo sobre el total de las muestras. Su evaluación es dada por un número entre 0 y 1, mientras más cercano a 1 (o 100%), mejor es el desempeño del modelo en general."
   ]
  },
  {
   "cell_type": "code",
   "execution_count": 10,
   "id": "6e49fa64-4086-4627-9973-1ac49bc85190",
   "metadata": {},
   "outputs": [
    {
     "name": "stdout",
     "output_type": "stream",
     "text": [
      "Precisión Global (Accuracy): 0.9160\n"
     ]
    }
   ],
   "source": [
    "accuracy = accuracy_score(y_test, y_pred)\n",
    "print(f\"Precisión Global (Accuracy): {accuracy:.4f}\")"
   ]
  },
  {
   "cell_type": "markdown",
   "id": "8275f672-4f22-4598-832a-fd33cbe4ddbd",
   "metadata": {},
   "source": [
    "Tras ejecutar el cálculo de esta métrica, se deduce que el modelo acierta en el **_91.6%_** de los casos, lo cual, apoyado con los resultados de la matriz de confusión, concluye en que **_el modelo tiene un buen desempeño general y es confiable en sus predicciones_**."
   ]
  },
  {
   "cell_type": "markdown",
   "id": "67df9392-a1f3-42a9-99af-a43d0fb39afd",
   "metadata": {},
   "source": [
    "# Precision"
   ]
  },
  {
   "cell_type": "markdown",
   "id": "8e235ce3-b4b2-4646-9185-de5e9d24c4b8",
   "metadata": {},
   "source": [
    "Es una métrica que mide cuántas de las muestras clasificadas como positivas realmente lo son (verdaderos positivos).<br>\n",
    "Su interpretación se realiza de la siguiente manera:\n",
    "- **Precision alta (> 0.7):** El modelo tiene un _**bajo número de falsos positivos**_. Es decir, cuando predice que algo es positivo, generalmente tiene razón.\n",
    "- **Precision baja (< 0.5):** El modelo está haciendo _**muchos falsos positivos**_. En estos casos, el modelo tiende a etiquetar incorrectamente como positivos muchos ejemplos negativos, lo que puede ser un problema si la consecuencia de un falso positivo es costosa, como los casos de arrestar a una persona inocente o diagnosticar erróneamente una enfermedad."
   ]
  },
  {
   "cell_type": "code",
   "execution_count": 11,
   "id": "1697519f-cdb0-4d8c-ae53-811f2956017a",
   "metadata": {},
   "outputs": [
    {
     "name": "stdout",
     "output_type": "stream",
     "text": [
      "Precisión (Precision): 0.9140\n"
     ]
    }
   ],
   "source": [
    "precision = precision_score(y_test, y_pred)\n",
    "print(f\"Precisión (Precision): {precision:.4f}\")"
   ]
  },
  {
   "cell_type": "markdown",
   "id": "4fb1e909-10cb-4575-a119-c53607698d8d",
   "metadata": {},
   "source": [
    "Según el cálculo, de todas las predicciones positivas (personas que compraron el carro), el _**el modelo predijo que alguien compraría un carro de manera acertada el 91.4% de las veces**_."
   ]
  },
  {
   "cell_type": "markdown",
   "id": "be2e173a-c571-4450-9586-e9ba58c2fe88",
   "metadata": {},
   "source": [
    "# Recall (Sensibilidad)"
   ]
  },
  {
   "cell_type": "markdown",
   "id": "306d8397-7549-41b9-98b6-c9bb0a9d8a4c",
   "metadata": {},
   "source": [
    "El recall o sensibilidad mide la capacidad del modelo para identificar correctamente los positivos reales.<br>\n",
    "Su interpretación es la siguiente:\n",
    "- **Recall alto (> 0.7):** El modelo es _**bueno para detectar casos positivos**_. Es decir, tiene una baja tasa de falsos negativos, lo que es crucial cuando un falso negativo es muy costoso.\n",
    "- **Recall bajo (< 0.5):** El modelo está _**pasando por alto muchos casos positivos**_, lo cual puede ser peligroso en contextos donde no detectar algo realmente importante podría tener consecuencias graves, como no detectar una enfermedad o no detectar un fraude."
   ]
  },
  {
   "cell_type": "code",
   "execution_count": 12,
   "id": "032112fc-f90c-476b-b7d7-fccbfb184a48",
   "metadata": {},
   "outputs": [
    {
     "name": "stdout",
     "output_type": "stream",
     "text": [
      "Recall (Sensibilidad): 0.8673\n"
     ]
    }
   ],
   "source": [
    "recall = recall_score(y_test, y_pred)\n",
    "print(f\"Recall (Sensibilidad): {recall:.4f}\")"
   ]
  },
  {
   "cell_type": "markdown",
   "id": "beb0fe2f-8eff-4bb9-9b3f-313af3cfd32f",
   "metadata": {},
   "source": [
    "El análisis de esta métrica concluye que _**el modelo identifica correctamente el 86.73% de los clientes que compraron realmente un vehículo**_."
   ]
  },
  {
   "cell_type": "markdown",
   "id": "ae5a55e4-ecb2-4b5f-8bef-fce41f009cd5",
   "metadata": {},
   "source": [
    "# F1 Score"
   ]
  },
  {
   "cell_type": "markdown",
   "id": "e1342001-c4ad-4bcd-b8b5-2c33910d663e",
   "metadata": {},
   "source": [
    "Es un promedio que combina precisión y recall en una sola métrica balanceada.<br>\n",
    "Su evaluación se realiza así:\n",
    "- Se calcula con la fórmula ```2 * (Precision * Recall) / (Precision + Recall)```.\n",
    "- **F1-Score alto (> 0.7):** El modelo tiene un buen balance entre precision y recall. Es ideal en situaciones donde quieres equilibrar ambas métricas y no quieres que el modelo se incline demasiado hacia un lado (precision o recall).\n",
    "- **F1-Score bajo (< 0.5):** Esto indica que el modelo tiene un equilibrio pobre entre precision y recall, lo que generalmente significa que está fallando en al menos una de las dos métricas. Esto es un indicio de que el modelo no está funcionando bien en general."
   ]
  },
  {
   "cell_type": "code",
   "execution_count": 13,
   "id": "bf7e2b6a-5542-4dc7-aeb7-8b4e54e43820",
   "metadata": {},
   "outputs": [
    {
     "name": "stdout",
     "output_type": "stream",
     "text": [
      "F1-Score: 0.8901\n"
     ]
    }
   ],
   "source": [
    "f1 = f1_score(y_test, y_pred)\n",
    "print(f\"F1-Score: {f1:.4f}\")"
   ]
  },
  {
   "cell_type": "markdown",
   "id": "8eb5ed21-3410-4ed9-a73c-4cde94b6500a",
   "metadata": {},
   "source": [
    "El resultado de la métrica establece que **el modelo tiene un buen balance entre las métricas de precisión y sensibilidad**, pues su valor es de _**89.01%**_."
   ]
  },
  {
   "cell_type": "markdown",
   "id": "a9da944c-2ae0-4216-b3a4-8b9fd1083445",
   "metadata": {},
   "source": [
    "# Curva ROC & Área bajo la Curva ROC (AUC)"
   ]
  },
  {
   "cell_type": "markdown",
   "id": "e83c144e-bf48-4428-95db-58a3bd13c919",
   "metadata": {},
   "source": [
    "Por un lado, la Curva ROC (_Receiver Operating Characteristic_), es una gráfica que muestra cómo cambia el modelo si se ajusta el umbral de clasificación, teniendo al eje X como la Tasa de Falsos Positivos (FPR) y al eje Y como la Tasa de Verdaderos Positivos (TPR). Una curva más cerca de la esquina superior izquierda indica que es un mejor modelo.<br>\n",
    "Generalmente, si hay una _**curva cerca de la esquina superior izquierda**_, el modelo tiene una alta capacidad de discriminación, lo que significa que es muy bueno para separar las clases (Cuanto más hacia la esquina superior izquierda, mejor), y cuando hay una **_curva cerca de la diagonal (línea punteada)_**, esto indica un modelo que tiene un rendimiento similar al azar (AUC cercano a 0.5), por lo que no está discriminando bien las clases."
   ]
  },
  {
   "cell_type": "markdown",
   "id": "5e6fa63c-1106-4645-82c7-cff0a9524a8f",
   "metadata": {},
   "source": [
    "Por otro lado, la Área bajo la curva ROC (_AUC_) resume la ROC con un número entre 0 y 1. Mientras más cercano a 1, mejor el modelo distingue entre las clases. <br>\n",
    "Se interpreta de la siguiente forma:\n",
    "- **AUC alto (> 0.8):** El modelo tiene una excelente capacidad para separar las clases. Cuanto más cerca de 1, mejor.\n",
    "- **AUC cercano a 0.5:** El modelo es prácticamente aleatorio y no tiene capacidad de discriminación.\n",
    "- **AUC bajo (< 0.6):** El modelo tiene una muy baja capacidad de discriminación y probablemente no sea útil."
   ]
  },
  {
   "cell_type": "code",
   "execution_count": 14,
   "id": "46d975ee-b617-4533-85d7-c39867085410",
   "metadata": {},
   "outputs": [
    {
     "data": {
      "image/png": "[encoded data removed]",
      "text/plain": [
       "<Figure size 640x480 with 1 Axes>"
      ]
     },
     "metadata": {},
     "output_type": "display_data"
    },
    {
     "name": "stdout",
     "output_type": "stream",
     "text": [
      "AUC: 0.9627\n"
     ]
    }
   ],
   "source": [
    "y_prob = classifier.predict_proba(X_test)[:, 1]\n",
    "fpr, tpr, thresholds = roc_curve(y_test, y_prob)\n",
    "auc = roc_auc_score(y_test, y_prob)\n",
    "\n",
    "plt.plot(fpr, tpr, color='blue', label=f'AUC = {auc:.4f}')\n",
    "plt.plot([0, 1], [0, 1], linestyle='--', color='gray')\n",
    "plt.xlabel('Tasa de Falsos Positivos')\n",
    "plt.ylabel('Tasa de Verdaderos Positivos')\n",
    "plt.title('Curva ROC - Decision Tree')\n",
    "plt.legend()\n",
    "plt.grid()\n",
    "plt.show()\n",
    "\n",
    "print(f\"AUC: {auc:.4f}\")"
   ]
  },
  {
   "cell_type": "markdown",
   "id": "5a61f2b4-be7f-486e-a6fe-7212d6a96d5f",
   "metadata": {},
   "source": [
    "- A nivel gráfico, la curva se encuentra más cerca a la esquina superior izquierda, indicando que _**el modelo es bueno para clasificar entre los clientes que compran un auto y los que no lo hacen**_.\n",
    "- En el ámbito estadístico, el AUC tiene un valor de _**95.64%**_, _**apoyando y reforzando la conclusión sobre la buena capacidad de discriminación del modelo**_."
   ]
  },
  {
   "cell_type": "markdown",
   "id": "4c81b34e-d1da-4fce-9047-b0b4d13c5904",
   "metadata": {},
   "source": [
    "# Importancia de Características"
   ]
  },
  {
   "cell_type": "markdown",
   "id": "f23397f4-0c49-4e76-8211-0925a360fbe3",
   "metadata": {},
   "source": [
    "Al igual que en los árboles individuales, los Random Forests permiten evaluar la importancia de cada variable. Se calcula promediando la importancia de cada árbol."
   ]
  },
  {
   "cell_type": "code",
   "execution_count": 15,
   "id": "14d742b5-15ca-4a17-b5cd-0bcdda3dd5ba",
   "metadata": {},
   "outputs": [
    {
     "name": "stdout",
     "output_type": "stream",
     "text": [
      "Importancia de características (Random Forest):\n",
      "Age: 0.5167\n",
      "AnnualSalary: 0.4833\n"
     ]
    }
   ],
   "source": [
    "features = ['Age', 'AnnualSalary']\n",
    "importancias_rf = classifier.feature_importances_\n",
    "\n",
    "print(\"Importancia de características (Random Forest):\")\n",
    "for feature, importance in zip(features, importancias_rf):\n",
    "    print(f\"{feature}: {importance:.4f}\")"
   ]
  },
  {
   "cell_type": "markdown",
   "id": "98fc8d96-41f1-4f63-a3e2-9bc9a0834258",
   "metadata": {},
   "source": [
    "En base a las dos variables independientes del modelo, podemos deducir que, al momento de considerar múltiples árboles, la **_variable de edad (0.51) termina siendo la más importante por sobre el salario anual (0.48), aunque no con mucha diferencia_**, tal como sucedía en el modelo de Decision Tree pero a la inversa."
   ]
  },
  {
   "cell_type": "markdown",
   "id": "4eef7993-7aad-49f4-b377-9f498d364f10",
   "metadata": {},
   "source": [
    "# Desviación Estándar entre Folds (Validación Cruzada)"
   ]
  },
  {
   "cell_type": "markdown",
   "id": "1da4b70e-273c-4763-8b2f-a8de3f0ab886",
   "metadata": {},
   "source": [
    "En primer lugar, los **folds** son divisiones del dataset que se usan en el proceso de validación cruzada, lo cual indica que se va a entrenar el modelo un X número de veces, cada vez usando 1 fold para evaluar y los restantes para entrenar. Al final, se obtienen 5 resultados de rendimiento, como Accuracy, uno por cada fold usado como test.\n",
    "- Esto sirve para evitar sesgos en el resultado del modelo, pues se lo entrena con diferentes combinaciones de entrenamiento y prueba, calculando el promedio para tener una estimación más realista del desempeño general del modelo. Lo anterior reduce el riesgo de que un solo \"buen\" o \"malo\" split distorsione tu evaluación. <br>\n",
    "La validación cruzada permite medir la robustez del modelo y su estabilidad entre distintos subconjuntos. La desviación estándar refleja qué tanto varían los resultados.<br>\n",
    "Ahora bien, la **Robustez del modelo** se refiere a su capacidad para mantener un buen rendimiento incluso cuando cambian los datos de entrada, por lo que un modelo robusto:\n",
    "- No depende de un subconjunto específico para funcionar bien.\n",
    "- Tiene un rendimiento consistente en diferentes partes del dataset. <br>\n",
    "Por otro lado, la **Estabilidad entre distintos subconjuntos (Folds)** significa que, si se entrena al modelo con diferentes particiones del dataset (folds), las métricas obtenidas (como la precisión) no deberían variar mucho entre cada fold.<br><br>\n",
    "Esta métrica se interpreta de la siguiente manera:\n",
    "- Si la **desviación estándar es baja**, indica que el modelo se comporta de manera similar en todos los folds y, por lo tanto, es _estable y generaliza bien_.\n",
    "- Si la **desviación estándar es alta**, significa que el rendimiento del modelo cambia mucho dependiendo del conjunto de entrenamiento/test, lo cual es señal de _poca estabilidad o sobreajuste_."
   ]
  },
  {
   "cell_type": "code",
   "execution_count": 16,
   "id": "5c05a93d-c278-4396-b4a7-60a4c29af70a",
   "metadata": {},
   "outputs": [
    {
     "name": "stdout",
     "output_type": "stream",
     "text": [
      "Precision media: 0.9027\n",
      "Desviación estándar: 0.0310\n"
     ]
    }
   ],
   "source": [
    "scores = cross_val_score(classifier, X_train, y_train, cv=10)\n",
    "print(f\"Precision media: {scores.mean():.4f}\")\n",
    "print(f\"Desviación estándar: {scores.std():.4f}\")"
   ]
  },
  {
   "cell_type": "markdown",
   "id": "7c78c9ec-29e8-450a-b4d0-b9a5b271931f",
   "metadata": {},
   "source": [
    "Bajo esta métrica, _**el modelo tiene un rendimiento alto y estable**_, pues la **precisión media** de todos los árboles es muy alta, teniendo un valor del _**90.27%**_ y, a su vez, una _**desviación estándar de 0.03**_ indica que **generaliza bien los datos (predice bien datos nuevos) y tiene muy poca variación en sus subconjuntos**."
   ]
  },
  {
   "cell_type": "markdown",
   "id": "f7aedd20-b5d3-4bf6-a908-590e227435c7",
   "metadata": {},
   "source": [
    "# CONCLUSIONES"
   ]
  },
  {
   "cell_type": "markdown",
   "id": "84659e1c-e4e8-453d-a212-2001d9b30275",
   "metadata": {},
   "source": [
    "En conclusión, las variables de Edad y Salario Anual de un cliente eran determinantes para clasificar si este compraría o no un coche, por lo que se las estableció como variables independientes, y a esta decisión de compra como variable dependiente, debido a que estas dos primeras no tienen relación entre sí y la combinación de ellas influye en el cliente al momento de comprar un vehículo. Por otro lado, las métricas analizadas arrojaron los siguientes resultados:\n",
    "- Al igual que en el Árbol de Decisiones, **el modelo tiene una buena clasificación general**, dado que en su Matriz de Confusión tiene _**21 errores de clasificación de los 250 datos que se utilizaron**_, un _poco menos que el modelo de DT_. Igualmente, su **Accuracy** fue aproximadamente un _**2% más alta que el DT (91.6%), lo que indica, en líneas generales, que Random Forest es ligeramente superior al modelo de Decision Trees**_.\n",
    "- En cuanto a su **Precisión (91.4%), Sensibilidad (86.73%) y F1 Score (89.01%)**, se llega a la conclusión de que también _**existe un buen equilibrio entre las métricas de precisión y sensibilidad, una detección óptima de casos verdaderos positivos y un número ínfimo de falsos positivos**_.\n",
    "- Respecto a su **Curva ROC y Área bajo la Curva (AUC)**, teniendo esta última un valor de _**96.27%**_, podemos decir que _**el modelo de Random Forest posee una excelente capacidad de clasificación entre los clientes compradores y no compradores, superando por muy poco al modelo individual de DT**_.\n",
    "- En el ámbito de la Importancia de Características, _**cuando se aplica Random Forest resalta más la variable de la Edad (0.51), aunque con muy poca diferencia con la variable de Salario Anual (0.48)**_, concluyendo finalmente que **estas dos variables son sumamente importantes para que el modelo tenga una buena capacidad de discriminación**.\n",
    "- Por último, al calcular la _**desviación media entre los Folds del modelo por medio de Validación Cruzada**_, se obtuvo que _**el modelo no tiene mucha variación en sus subconjuntos o folds (0.03), indicando estabilidad y un rendimiento alto también, pues la precisión media de todos los árboles del Random Forest tuvo un valor de 90.27%**_."
   ]
  }
 ],
 "metadata": {
  "kernelspec": {
   "display_name": "Python 3 (ipykernel)",
   "language": "python",
   "name": "python3"
  },
  "language_info": {
   "codemirror_mode": {
    "name": "ipython",
    "version": 3
   },
   "file_extension": ".py",
   "mimetype": "text/x-python",
   "name": "python",
   "nbconvert_exporter": "python",
   "pygments_lexer": "ipython3",
   "version": "3.11.7"
  }
 },
 "nbformat": 4,
 "nbformat_minor": 5
}
